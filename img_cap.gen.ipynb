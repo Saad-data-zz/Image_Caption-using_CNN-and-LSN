{
 "cells": [
  {
   "cell_type": "code",
   "execution_count": 1,
   "id": "9c8dbbae",
   "metadata": {},
   "outputs": [],
   "source": [
    "from keras.preprocessing.text import Tokenizer\n",
    "from keras.preprocessing.sequence import pad_sequences\n",
    "from keras.applications.xception import Xception\n",
    "from keras.models import load_model\n",
    "from pickle import load\n",
    "import numpy as np\n",
    "import matplotlib.pyplot as plt\n",
    "import argparse\n",
    "import os\n",
    "\n",
    "os.environ['TF_CPP_MIN_LOG_LEVEL'] = '2'"
   ]
  },
  {
   "cell_type": "code",
   "execution_count": 2,
   "id": "ea066021",
   "metadata": {},
   "outputs": [
    {
     "name": "stderr",
     "output_type": "stream",
     "text": [
      "usage: ipykernel_launcher.py [-h]\n",
      "ipykernel_launcher.py: error: unrecognized arguments: -f /Users/samy/Library/Jupyter/runtime/kernel-93b9808e-6bf8-484c-a16d-5d07d5931128.json\n"
     ]
    },
    {
     "ename": "SystemExit",
     "evalue": "2",
     "output_type": "error",
     "traceback": [
      "An exception has occurred, use %tb to see the full traceback.\n",
      "\u001b[0;31mSystemExit\u001b[0m\u001b[0;31m:\u001b[0m 2\n"
     ]
    },
    {
     "name": "stderr",
     "output_type": "stream",
     "text": [
      "/Library/Frameworks/Python.framework/Versions/3.10/lib/python3.10/site-packages/IPython/core/interactiveshell.py:3259: UserWarning: To exit: use 'exit', 'quit', or Ctrl-D.\n",
      "  warn(\"To exit: use 'exit', 'quit', or Ctrl-D.\", stacklevel=1)\n"
     ]
    }
   ],
   "source": [
    "ap = argparse.ArgumentParser()\n",
    "#ap.add_argument('-i/--image', required=True, help=\"Image Path\")\n",
    "args = vars(ap.parse_args())\n",
    "img_path = args['image']"
   ]
  },
  {
   "cell_type": "code",
   "execution_count": null,
   "id": "ee9c6fe6",
   "metadata": {},
   "outputs": [],
   "source": [
    "def extract_features(filename, model):\n",
    "        try:\n",
    "            image = Image.open(filename)\n",
    "            \n",
    "        except:\n",
    "            print(\"ERROR: Couldn't open image! Make sure the image path and extension is correct\")\n",
    "        image = image.resize((299,299))\n",
    "        image = np.array(image)\n",
    "        # for images that has 4 channels, we convert them into 3 channels\n",
    "        if image.shape[2] == 4: \n",
    "            image = image[..., :3]\n",
    "        image = np.expand_dims(image, axis=0)\n",
    "        image = image/127.5\n",
    "        image = image - 1.0\n",
    "        feature = model.predict(image)\n",
    "        return feature"
   ]
  },
  {
   "cell_type": "code",
   "execution_count": null,
   "id": "658d0200",
   "metadata": {},
   "outputs": [],
   "source": [
    "def word_for_id(integer, tokenizer):\n",
    " for word, index in tokenizer.word_index.items():\n",
    "     if index == integer:\n",
    "         return word\n",
    " return None\n",
    "\n",
    "\n",
    "def generate_desc(model, tokenizer, photo, max_length):\n",
    "    in_text = 'start'\n",
    "    for i in range(max_length):\n",
    "        sequence = tokenizer.texts_to_sequences([in_text])[0]\n",
    "        sequence = pad_sequences([sequence], maxlen=max_length)\n",
    "        pred = model.predict([photo,sequence], verbose=0)\n",
    "        pred = np.argmax(pred)\n",
    "        word = word_for_id(pred, tokenizer)\n",
    "        if word is None:\n",
    "            break\n",
    "        in_text += ' ' + word\n",
    "        if word == 'end':\n",
    "            break\n",
    "    return in_text"
   ]
  },
  {
   "cell_type": "code",
   "execution_count": null,
   "id": "dd8fc989",
   "metadata": {},
   "outputs": [],
   "source": [
    "max_length = 32\n",
    "tokenizer = load(open(\"/Users/samy/Desktop/untitled folder/Image Caption Generator With CNN and LSTM In Python Source Code/tokenizer.p\",\"rb\"))\n",
    "model = load_model('/Users/samy/Desktop/untitled folder/Image Caption Generator With CNN and LSTM In Python Source Code/models/model_9.h5')\n",
    "xception_model = Xception(include_top=False, pooling=\"avg\")\n",
    "\n",
    "photo = extract_features(img_path, xception_model)\n",
    "img = Image.open(img_path)\n",
    "\n",
    "description = generate_desc(model, tokenizer, photo, max_length)\n",
    "print(\"\\n\\n\")\n",
    "print(description)\n",
    "plt.imshow(img)"
   ]
  },
  {
   "cell_type": "code",
   "execution_count": null,
   "id": "fe2cfc95",
   "metadata": {},
   "outputs": [],
   "source": [
    "/Users/samy/Desktop/untitled folder/Image Caption Generator With CNN and LSTM In Python Source Code"
   ]
  }
 ],
 "metadata": {
  "kernelspec": {
   "display_name": "Python 3 (ipykernel)",
   "language": "python",
   "name": "python3"
  },
  "language_info": {
   "codemirror_mode": {
    "name": "ipython",
    "version": 3
   },
   "file_extension": ".py",
   "mimetype": "text/x-python",
   "name": "python",
   "nbconvert_exporter": "python",
   "pygments_lexer": "ipython3",
   "version": "3.10.2"
  }
 },
 "nbformat": 4,
 "nbformat_minor": 5
}
